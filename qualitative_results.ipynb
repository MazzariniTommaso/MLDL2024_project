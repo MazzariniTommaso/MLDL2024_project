{
 "cells": [
  {
   "cell_type": "code",
   "execution_count": 4,
   "metadata": {},
   "outputs": [
    {
     "ename": "ImportError",
     "evalue": "cannot import name 'plot_segmented_images' from 'utils' (/Users/tommasomazzarini/Code/MLDL2024_project/utils/__init__.py)",
     "output_type": "error",
     "traceback": [
      "\u001b[0;31m---------------------------------------------------------------------------\u001b[0m",
      "\u001b[0;31mImportError\u001b[0m                               Traceback (most recent call last)",
      "Cell \u001b[0;32mIn[4], line 1\u001b[0m\n\u001b[0;32m----> 1\u001b[0m \u001b[38;5;28;01mfrom\u001b[39;00m \u001b[38;5;21;01mutils\u001b[39;00m \u001b[38;5;28;01mimport\u001b[39;00m plot_segmented_images\n\u001b[1;32m      2\u001b[0m \u001b[38;5;28;01mimport\u001b[39;00m \u001b[38;5;21;01mtorch\u001b[39;00m\n",
      "\u001b[0;31mImportError\u001b[0m: cannot import name 'plot_segmented_images' from 'utils' (/Users/tommasomazzarini/Code/MLDL2024_project/utils/__init__.py)"
     ]
    }
   ],
   "source": [
    "from utils import plot_segmented_images\n",
    "import torch"
   ]
  },
  {
   "cell_type": "code",
   "execution_count": 20,
   "metadata": {},
   "outputs": [
    {
     "name": "stdout",
     "output_type": "stream",
     "text": [
      "Using device: cpu\n"
     ]
    }
   ],
   "source": [
    "device = torch.device('cuda' if torch.cuda.is_available() else 'cpu')\n",
    "print('Using device:', device)"
   ]
  },
  {
   "cell_type": "code",
   "execution_count": 24,
   "metadata": {},
   "outputs": [
    {
     "ename": "TypeError",
     "evalue": "plot_segmented_images() got an unexpected keyword argument 'device'",
     "output_type": "error",
     "traceback": [
      "\u001b[0;31m---------------------------------------------------------------------------\u001b[0m",
      "\u001b[0;31mTypeError\u001b[0m                                 Traceback (most recent call last)",
      "Cell \u001b[0;32mIn[24], line 21\u001b[0m\n\u001b[1;32m      5\u001b[0m \u001b[38;5;124;03m\"\"\" final\u001b[39;00m\n\u001b[1;32m      6\u001b[0m \u001b[38;5;124;03m# deepLab on the same domain \u001b[39;00m\n\u001b[1;32m      7\u001b[0m \u001b[38;5;124;03m# BiSeNet on the same domain\u001b[39;00m\n\u001b[0;32m   (...)\u001b[0m\n\u001b[1;32m     14\u001b[0m \u001b[38;5;124;03m               ('BiSeNet', 'BiSeNet DA')]\u001b[39;00m\n\u001b[1;32m     15\u001b[0m \u001b[38;5;124;03m\"\"\"\u001b[39;00m\n\u001b[1;32m     16\u001b[0m model_types \u001b[38;5;241m=\u001b[39m [(\u001b[38;5;124m'\u001b[39m\u001b[38;5;124mDeepLabV2\u001b[39m\u001b[38;5;124m'\u001b[39m,\u001b[38;5;124m'\u001b[39m\u001b[38;5;124mDeepLabV2\u001b[39m\u001b[38;5;124m'\u001b[39m),\n\u001b[1;32m     17\u001b[0m                (\u001b[38;5;124m'\u001b[39m\u001b[38;5;124mBiSeNet\u001b[39m\u001b[38;5;124m'\u001b[39m, \u001b[38;5;124m'\u001b[39m\u001b[38;5;124mBiSeNet\u001b[39m\u001b[38;5;124m'\u001b[39m),\n\u001b[1;32m     18\u001b[0m                (\u001b[38;5;124m'\u001b[39m\u001b[38;5;124mBiSeNet\u001b[39m\u001b[38;5;124m'\u001b[39m, \u001b[38;5;124m'\u001b[39m\u001b[38;5;124mBiSeNet DS\u001b[39m\u001b[38;5;124m'\u001b[39m),\n\u001b[1;32m     19\u001b[0m                (\u001b[38;5;124m'\u001b[39m\u001b[38;5;124mBiSeNet\u001b[39m\u001b[38;5;124m'\u001b[39m, \u001b[38;5;124m'\u001b[39m\u001b[38;5;124mAugmented BiSeNet\u001b[39m\u001b[38;5;124m'\u001b[39m)]\n\u001b[0;32m---> 21\u001b[0m plot_segmented_images(model_roots\u001b[38;5;241m=\u001b[39mmodel_roots, model_types\u001b[38;5;241m=\u001b[39mmodel_types,n_images\u001b[38;5;241m=\u001b[39m\u001b[38;5;241m5\u001b[39m, device\u001b[38;5;241m=\u001b[39mdevice)\n",
      "\u001b[0;31mTypeError\u001b[0m: plot_segmented_images() got an unexpected keyword argument 'device'"
     ]
    }
   ],
   "source": [
    "model_roots = ['checkpoints/Step2_1/Step2_1_SGD/checkpoint.pth',\n",
    "               'checkpoints/Step2_2/Step2_2_SGD/checkpoint.pth',\n",
    "               'checkpoints/Step3_1/Step3_1_SGD/checkpoint.pth',\n",
    "               'checkpoints/Step3_2/Trasform3/Step3_2_SGD_transform3/checkpoint.pth']\n",
    "\"\"\" final\n",
    "# deepLab on the same domain \n",
    "# BiSeNet on the same domain\n",
    "# BiSeNet on different domain\n",
    "# BiSeNet domain adaptation\n",
    "\n",
    "model_types = [('DeepLabV2','DeepLabV2'),\n",
    "               ('BiSeNet', 'BiSeNet'),\n",
    "               ('BiSeNet', 'BiSeNet DS'),\n",
    "               ('BiSeNet', 'BiSeNet DA')]\n",
    "\"\"\"\n",
    "model_types = [('DeepLabV2','DeepLabV2'),\n",
    "               ('BiSeNet', 'BiSeNet'),\n",
    "               ('BiSeNet', 'BiSeNet DS'),\n",
    "               ('BiSeNet', 'Augmented BiSeNet')]\n",
    "\n",
    "plot_segmented_images(model_roots=model_roots, model_types=model_types,n_images=5, device=device)"
   ]
  },
  {
   "cell_type": "code",
   "execution_count": null,
   "metadata": {},
   "outputs": [],
   "source": []
  },
  {
   "cell_type": "code",
   "execution_count": null,
   "metadata": {},
   "outputs": [],
   "source": []
  }
 ],
 "metadata": {
  "kernelspec": {
   "display_name": "venvMALTO",
   "language": "python",
   "name": "python3"
  },
  "language_info": {
   "codemirror_mode": {
    "name": "ipython",
    "version": 3
   },
   "file_extension": ".py",
   "mimetype": "text/x-python",
   "name": "python",
   "nbconvert_exporter": "python",
   "pygments_lexer": "ipython3",
   "version": "3.12.3"
  }
 },
 "nbformat": 4,
 "nbformat_minor": 2
}
